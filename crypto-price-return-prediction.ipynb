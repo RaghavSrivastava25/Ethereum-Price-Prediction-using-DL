{
 "cells": [
  {
   "cell_type": "code",
   "execution_count": 1,
   "id": "4767880a",
   "metadata": {
    "_cell_guid": "b1076dfc-b9ad-4769-8c92-a6c4dae69d19",
    "_uuid": "8f2839f25d086af736a60e9eeb907d3b93b6e0e5",
    "execution": {
     "iopub.execute_input": "2022-04-16T08:05:49.126961Z",
     "iopub.status.busy": "2022-04-16T08:05:49.126584Z",
     "iopub.status.idle": "2022-04-16T08:05:49.138786Z",
     "shell.execute_reply": "2022-04-16T08:05:49.137833Z"
    },
    "papermill": {
     "duration": 0.021874,
     "end_time": "2022-04-16T08:05:49.141456",
     "exception": false,
     "start_time": "2022-04-16T08:05:49.119582",
     "status": "completed"
    },
    "tags": []
   },
   "outputs": [],
   "source": [
    "# This Python 3 environment comes with many helpful analytics libraries installed\n",
    "# It is defined by the kaggle/python Docker image: https://github.com/kaggle/docker-python\n",
    "# For example, here's several helpful packages to load\n",
    "\n",
    "import numpy as np # linear algebra\n",
    "import pandas as pd # data processing, CSV file I/O (e.g. pd.read_csv)\n",
    "\n",
    "# Input data files are available in the read-only \"../input/\" directory\n",
    "# For example, running this (by clicking run or pressing Shift+Enter) will list all files under the input directory\n",
    "\n",
    "import os\n",
    "for dirname, _, filenames in os.walk('/kaggle/input'):\n",
    "    for filename in filenames:\n",
    "        print(os.path.join(dirname, filename))\n",
    "\n",
    "# You can write up to 20GB to the current directory (/kaggle/working/) that gets preserved as output when you create a version using \"Save & Run All\" \n",
    "# You can also write temporary files to /kaggle/temp/, but they won't be saved outside of the current session"
   ]
  },
  {
   "cell_type": "code",
   "execution_count": 2,
   "id": "8ce474b8",
   "metadata": {
    "execution": {
     "iopub.execute_input": "2022-04-16T08:05:49.151545Z",
     "iopub.status.busy": "2022-04-16T08:05:49.150987Z",
     "iopub.status.idle": "2022-04-16T08:05:49.172695Z",
     "shell.execute_reply": "2022-04-16T08:05:49.171616Z"
    },
    "papermill": {
     "duration": 0.028181,
     "end_time": "2022-04-16T08:05:49.173944",
     "exception": true,
     "start_time": "2022-04-16T08:05:49.145763",
     "status": "failed"
    },
    "tags": []
   },
   "outputs": [
    {
     "ename": "SyntaxError",
     "evalue": "invalid syntax (2562466526.py, line 44)",
     "output_type": "error",
     "traceback": [
      "\u001b[0;36m  File \u001b[0;32m\"/tmp/ipykernel_19/2562466526.py\"\u001b[0;36m, line \u001b[0;32m44\u001b[0m\n\u001b[0;31m    model.add(Dropout(0.2))\u001b[0m\n\u001b[0m        ^\u001b[0m\n\u001b[0;31mSyntaxError\u001b[0m\u001b[0;31m:\u001b[0m invalid syntax\n"
     ]
    }
   ],
   "source": [
    "import numpy as np\n",
    "import pandas as pd\n",
    "import matplotlib.pyplot as plt\n",
    "import pandas_datareader as web\n",
    "import datetime as dt\n",
    "import tensorflow as tf\n",
    "import sklearn\n",
    "from sklearn.preprocessing import MinMaxScaler\n",
    "from tensorflow.keras.layers import Dense, Dropout, LSTM\n",
    "from tensorflow.keras.models import Sequential\n",
    "\n",
    "crypto_currency = 'ETH'\n",
    "against_currency = 'INR'\n",
    "\n",
    "start = dt.datetime(2016,1,1)\n",
    "end = dt.datetime.now()\n",
    "\n",
    "data = web.DataReader(f'{crypto_currency}-{against_currency}', 'yahoo', start, end)\n",
    "\n",
    "#print(data.head())\n",
    "#perpare_data\n",
    "scaler = MinMaxScaler(feature_range=(0,1))\n",
    "scaled_data = scaler.fit_transform(data['Close'].values.reshape(-1,1))\n",
    "\n",
    "prediction_days = 60\n",
    "future_day = 31\n",
    "\n",
    "x_train, y_train = [], []\n",
    "for x in range(prediction_days, len(scaled_data)-future_day):\n",
    "    x_train.append(scaled_data[x-prediction_days:x, 0])\n",
    "y_train.append(scaled_data[x+future_day, 0])\n",
    "x_train, y_train = np.array(x_train), np.array(y_train)\n",
    "x_train = np.reshape(x_train, (x_train.shape[0], x_train.shape[1], 1))\n",
    "        \n",
    "#Create the neural network\n",
    "        \n",
    "model = Sequential()\n",
    "        \n",
    "model.add(LSTM(units=50, return_sequences=True, input_shape=(x_train.shape[1], 1)))\n",
    "model.add(Dropout(0.2))\n",
    "model.add(LSTM(units=50, return_sequences=True))\n",
    "model.add(Dropout(0.2))\n",
    "model.add(LSTM(units=50)\n",
    "model.add(Dropout(0.2))\n",
    "model.add(Dense(units=1))\n",
    "                          \n",
    "model.compile(optimizer='adam', loss='mean_squared_error')\n",
    "model.fit(x_traiin, y_train, epochs=25, batch_size=32)\n",
    "                  \n",
    "#Testing the model\n",
    "\n",
    "test_start = dt.datetime(2020,1,1)\n",
    "test_end = dt.datetime.now()          \n",
    "                  \n",
    "test_data = web.DataReader((f'{crypto_currency}-{against_currency}', 'yahoo', test_start, test_end))                \n",
    "actual_prices = test_data['Close'].values        \n",
    "        \n",
    "total_dataset = pd.concat((data['Close'], test_data['Close'], axis=0))\n",
    "          \n",
    "model_inputs = total_dataset[len(total_dataset) - len(test_data) - prediction_days:].values\n",
    "model_inputs = model_inputs.reshape(-1, 1)\n",
    "model_inputs = scaler.fit_transform(model_inputs)\n",
    "          \n",
    "x_test = []\n",
    "          \n",
    "for x in range(prediction_days, len(model_inputs)):\n",
    "          x_test.append(model_inputs[x-prediction_days:x, 0])\n",
    "          \n",
    "x_test = np.array(x_test)\n",
    "x_test = np.reshape(x_test, (x_test.shape[0], x_test.shape[1], 1)\n",
    "                    \n",
    "prediction_prices = model.predict(x_test)\n",
    "prediction_prices = scaler.inverse_transform(prediction_prices)\n",
    "                    \n",
    "plt.plot(actual_prices, color='red', label='Actual Prices')\n",
    "plt.plot(prediction_prices, color='green', label='Predicted Prices')\n",
    "plt.title(f'{crypto_currency} price prediction)\n",
    "plt.xlabel('Time')\n",
    "plt.ylabel('Price')\n",
    "plt.legend(loc='upper left')\n",
    "plt.show()\n",
    "          \n",
    "#Predict next day\n",
    " \n",
    "real_data = [model_inputs[len(model_inputs) + 1 - prediction_days:len(model_inputs) + 1, 0]]\n",
    "real_data = np.array(real_data)\n",
    "real_data = np.reshape(real_data, (real_data.shape[0],real_data.shape[1], 1))\n",
    "\n",
    "prediction = model.predict(real_data)\n",
    "prediction = scaler.inverse_transform(prediction)\n",
    "print()          "
   ]
  }
 ],
 "metadata": {
  "kernelspec": {
   "display_name": "Python 3",
   "language": "python",
   "name": "python3"
  },
  "language_info": {
   "codemirror_mode": {
    "name": "ipython",
    "version": 3
   },
   "file_extension": ".py",
   "mimetype": "text/x-python",
   "name": "python",
   "nbconvert_exporter": "python",
   "pygments_lexer": "ipython3",
   "version": "3.7.12"
  },
  "papermill": {
   "default_parameters": {},
   "duration": 12.001383,
   "end_time": "2022-04-16T08:05:49.901023",
   "environment_variables": {},
   "exception": true,
   "input_path": "__notebook__.ipynb",
   "output_path": "__notebook__.ipynb",
   "parameters": {},
   "start_time": "2022-04-16T08:05:37.899640",
   "version": "2.3.4"
  }
 },
 "nbformat": 4,
 "nbformat_minor": 5
}
